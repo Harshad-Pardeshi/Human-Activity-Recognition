{
 "cells": [
  {
   "cell_type": "code",
   "execution_count": 1,
   "metadata": {},
   "outputs": [
    {
     "name": "stderr",
     "output_type": "stream",
     "text": [
      "C:\\Anaconda\\lib\\site-packages\\h5py\\__init__.py:34: FutureWarning: Conversion of the second argument of issubdtype from `float` to `np.floating` is deprecated. In future, it will be treated as `np.float64 == np.dtype(float).type`.\n",
      "  from ._conv import register_converters as _register_converters\n",
      "Using TensorFlow backend.\n"
     ]
    }
   ],
   "source": [
    "import pandas as pd\n",
    "import numpy as np\n",
    "from keras import layers\n",
    "import matplotlib.pyplot as plt\n",
    "import matplotlib"
   ]
  },
  {
   "cell_type": "code",
   "execution_count": 2,
   "metadata": {},
   "outputs": [],
   "source": [
    "%matplotlib inline\n",
    "matplotlib.style.use('ggplot')"
   ]
  },
  {
   "cell_type": "markdown",
   "metadata": {},
   "source": [
    "# Importing Data"
   ]
  },
  {
   "cell_type": "code",
   "execution_count": 3,
   "metadata": {},
   "outputs": [],
   "source": [
    "# Those are separate normalised input features for the neural network\n",
    "INPUT_SIGNAL_TYPES = [\n",
    "    \"body_acc_x_\",\n",
    "    \"body_acc_y_\",\n",
    "    \"body_acc_z_\",\n",
    "    \"body_gyro_x_\",\n",
    "    \"body_gyro_y_\",\n",
    "    \"body_gyro_z_\",\n",
    "    \"total_acc_x_\",\n",
    "    \"total_acc_y_\",\n",
    "    \"total_acc_z_\"\n",
    "]\n",
    "\n",
    "# Output classes to learn how to classify\n",
    "LABELS = [\n",
    "    \"WALKING\", \n",
    "    \"WALKING_UPSTAIRS\", \n",
    "    \"WALKING_DOWNSTAIRS\", \n",
    "    \"SITTING\", \n",
    "    \"STANDING\", \n",
    "    \"LAYING\"\n",
    "]"
   ]
  },
  {
   "cell_type": "code",
   "execution_count": 4,
   "metadata": {},
   "outputs": [],
   "source": [
    "TRAIN = \"UCI HAR Dataset\\\\UCI HAR Dataset\\\\train\\\\\"\n",
    "TEST = \"UCI HAR Dataset\\\\UCI HAR Dataset\\\\test\\\\\"\n",
    "\n",
    "# Load \"X\" (the neural network's training and testing inputs)\n",
    "\n",
    "def load_X(X_signals_paths):\n",
    "    X_signals = []\n",
    "    \n",
    "    for signal_type_path in X_signals_paths:\n",
    "        file = open(signal_type_path, 'r')\n",
    "        # Read dataset from disk, dealing with text files' syntax\n",
    "        X_signals.append(\n",
    "            [np.array(serie, dtype=np.float32) for serie in [\n",
    "                row.replace('  ', ' ').strip().split(' ') for row in file\n",
    "            ]]\n",
    "        )\n",
    "        file.close()\n",
    "    \n",
    "    return np.transpose(np.array(X_signals), (1, 2, 0))\n",
    "\n",
    "X_train_signals_paths = [\n",
    "    TRAIN + \"Inertial Signals/\" + signal + \"train.txt\" for signal in INPUT_SIGNAL_TYPES\n",
    "]\n",
    "X_test_signals_paths = [\n",
    "    TEST + \"Inertial Signals/\" + signal + \"test.txt\" for signal in INPUT_SIGNAL_TYPES\n",
    "]\n",
    "\n",
    "X_train = load_X(X_train_signals_paths)\n",
    "X_test = load_X(X_test_signals_paths)"
   ]
  },
  {
   "cell_type": "code",
   "execution_count": 5,
   "metadata": {},
   "outputs": [],
   "source": [
    "# Load \"y\" (the neural network's training and testing outputs)\n",
    "def load_y(y_path):\n",
    "    file = open(y_path, 'r')\n",
    "    # Read dataset from disk, dealing with text file's syntax\n",
    "    y_ = np.array(\n",
    "        [elem for elem in [\n",
    "            row.replace('  ', ' ').strip().split(' ') for row in file\n",
    "        ]], \n",
    "        dtype=np.int32\n",
    "    )\n",
    "    file.close()\n",
    "    \n",
    "    # Substract 1 to each output class for friendly 0-based indexing \n",
    "    return y_ - 1\n",
    "\n",
    "y_train_path = TRAIN + \"y_train.txt\"\n",
    "y_test_path = TEST + \"y_test.txt\"\n",
    "\n",
    "y_train = load_y(y_train_path)\n",
    "y_test = load_y(y_test_path)"
   ]
  },
  {
   "cell_type": "code",
   "execution_count": 10,
   "metadata": {},
   "outputs": [
    {
     "name": "stdout",
     "output_type": "stream",
     "text": [
      "X_train len 7352\n",
      "y_train len 7352\n",
      "X_train shape (7352, 128, 9)\n",
      "y_train shape (7352, 1)\n"
     ]
    }
   ],
   "source": [
    "print('X_train len', len(X_train))\n",
    "print('y_train len', len(y_train))\n",
    "print('X_train shape', X_train.shape)\n",
    "print('y_train shape', y_train.shape)"
   ]
  },
  {
   "cell_type": "code",
   "execution_count": 11,
   "metadata": {},
   "outputs": [],
   "source": [
    "xtrain_df = pd.DataFrame(X_train.reshape(len(X_train),1152))\n",
    "ytrain_df = pd.DataFrame(y_train.reshape(len(y_train),1))\n",
    "xtest_df = pd.DataFrame(X_test.reshape(len(X_test),1152))\n",
    "ytest_df = pd.DataFrame(y_test.reshape(len(y_test),1))"
   ]
  },
  {
   "cell_type": "code",
   "execution_count": 12,
   "metadata": {},
   "outputs": [
    {
     "data": {
      "text/plain": [
       "(7352, 1)"
      ]
     },
     "execution_count": 12,
     "metadata": {},
     "output_type": "execute_result"
    }
   ],
   "source": [
    "xtrain_df.shape\n",
    "ytrain_df.shape"
   ]
  },
  {
   "cell_type": "code",
   "execution_count": 14,
   "metadata": {},
   "outputs": [],
   "source": [
    "#feature561_df = pd.read_csv('UCI HAR Dataset\\\\UCI HAR Dataset\\\\features.txt',header= None, sep='\\s+')\n",
    "subjectTrain_df = pd.read_csv('UCI HAR Dataset\\\\UCI HAR Dataset\\\\train\\\\subject_train.txt',header= None, sep='\\s+')"
   ]
  },
  {
   "cell_type": "code",
   "execution_count": 15,
   "metadata": {},
   "outputs": [],
   "source": [
    "#import pandas as pd\n",
    "#import numpy as np\n",
    "#xtrain_df = pd.read_csv('C:\\\\Users\\\\prith\\\\Downloads\\\\UCI HAR Dataset\\\\UCI HAR Dataset\\\\train\\\\X_train.txt',header= None, sep='\\s+')\n",
    "\n",
    "#ytrain_df = pd.read_csv('C:\\\\Users\\\\prith\\\\Downloads\\\\UCI HAR Dataset\\\\UCI HAR Dataset\\\\train\\\\Y_train.txt',header= None, sep='\\s+')\n",
    "#xtest_df = pd.read_csv('C:\\\\Users\\\\prith\\\\Downloads\\\\UCI HAR Dataset\\\\UCI HAR Dataset\\\\test\\\\X_test.txt',header= None, sep='\\s+')\n",
    "#ytest_df = pd.read_csv('C:\\\\Users\\\\prith\\\\Downloads\\\\UCI HAR Dataset\\\\UCI HAR Dataset\\\\test\\\\Y_test.txt',header= None, sep='\\s+')\n"
   ]
  },
  {
   "cell_type": "markdown",
   "metadata": {},
   "source": [
    "# Exploratory Data Analysis"
   ]
  },
  {
   "cell_type": "code",
   "execution_count": 16,
   "metadata": {},
   "outputs": [
    {
     "data": {
      "image/png": "[encoded data removed]",
      "text/plain": [
       "<matplotlib.figure.Figure at 0x20fd1f535c0>"
      ]
     },
     "metadata": {},
     "output_type": "display_data"
    }
   ],
   "source": [
    "#Plotting the frequency of training data by activity type\n",
    "import matplotlib.pyplot as plt\n",
    "plt.show(ytrain_df[0].value_counts().sort_index().plot(kind='bar', title='Frequency of Training examples by Activity Type'))"
   ]
  },
  {
   "cell_type": "code",
   "execution_count": 17,
   "metadata": {},
   "outputs": [
    {
     "data": {
      "image/png": "[encoded data removed]",
      "text/plain": [
       "<matplotlib.figure.Figure at 0x20fcf1b4550>"
      ]
     },
     "metadata": {},
     "output_type": "display_data"
    }
   ],
   "source": [
    "#Plotting the frequency of training data by user\n",
    "plt.show(subjectTrain_df[0].value_counts().sort_index().plot(kind='bar', title='Frequency of Training examples by user'))"
   ]
  },
  {
   "cell_type": "code",
   "execution_count": 18,
   "metadata": {},
   "outputs": [],
   "source": [
    "#adding fetaures as headers to xtrain\n",
    "#xtrain_df.columns=feature561_df[1]\n",
    "ytrain_df.columns=['Activity']\n",
    "subjectTrain_df.columns=['User']"
   ]
  },
  {
   "cell_type": "code",
   "execution_count": 19,
   "metadata": {},
   "outputs": [],
   "source": [
    "train_df=pd.concat([xtrain_df,ytrain_df,subjectTrain_df], axis=1)"
   ]
  },
  {
   "cell_type": "code",
   "execution_count": 20,
   "metadata": {
    "scrolled": true
   },
   "outputs": [
    {
     "data": {
      "text/html": [
       "<div>\n",
       "<style scoped>\n",
       "    .dataframe tbody tr th:only-of-type {\n",
       "        vertical-align: middle;\n",
       "    }\n",
       "\n",
       "    .dataframe tbody tr th {\n",
       "        vertical-align: top;\n",
       "    }\n",
       "\n",
       "    .dataframe thead th {\n",
       "        text-align: right;\n",
       "    }\n",
       "</style>\n",
       "<table border=\"1\" class=\"dataframe\">\n",
       "  <thead>\n",
       "    <tr style=\"text-align: right;\">\n",
       "      <th>Activity</th>\n",
       "      <th>0</th>\n",
       "      <th>1</th>\n",
       "      <th>2</th>\n",
       "      <th>3</th>\n",
       "      <th>4</th>\n",
       "      <th>5</th>\n",
       "    </tr>\n",
       "    <tr>\n",
       "      <th>User</th>\n",
       "      <th></th>\n",
       "      <th></th>\n",
       "      <th></th>\n",
       "      <th></th>\n",
       "      <th></th>\n",
       "      <th></th>\n",
       "    </tr>\n",
       "  </thead>\n",
       "  <tbody>\n",
       "    <tr>\n",
       "      <th>1</th>\n",
       "      <td>95</td>\n",
       "      <td>53</td>\n",
       "      <td>49</td>\n",
       "      <td>47</td>\n",
       "      <td>53</td>\n",
       "      <td>50</td>\n",
       "    </tr>\n",
       "    <tr>\n",
       "      <th>3</th>\n",
       "      <td>58</td>\n",
       "      <td>59</td>\n",
       "      <td>49</td>\n",
       "      <td>52</td>\n",
       "      <td>61</td>\n",
       "      <td>62</td>\n",
       "    </tr>\n",
       "    <tr>\n",
       "      <th>5</th>\n",
       "      <td>56</td>\n",
       "      <td>47</td>\n",
       "      <td>47</td>\n",
       "      <td>44</td>\n",
       "      <td>56</td>\n",
       "      <td>52</td>\n",
       "    </tr>\n",
       "    <tr>\n",
       "      <th>6</th>\n",
       "      <td>57</td>\n",
       "      <td>51</td>\n",
       "      <td>48</td>\n",
       "      <td>55</td>\n",
       "      <td>57</td>\n",
       "      <td>57</td>\n",
       "    </tr>\n",
       "    <tr>\n",
       "      <th>7</th>\n",
       "      <td>57</td>\n",
       "      <td>51</td>\n",
       "      <td>47</td>\n",
       "      <td>48</td>\n",
       "      <td>53</td>\n",
       "      <td>52</td>\n",
       "    </tr>\n",
       "    <tr>\n",
       "      <th>8</th>\n",
       "      <td>48</td>\n",
       "      <td>41</td>\n",
       "      <td>38</td>\n",
       "      <td>46</td>\n",
       "      <td>54</td>\n",
       "      <td>54</td>\n",
       "    </tr>\n",
       "    <tr>\n",
       "      <th>11</th>\n",
       "      <td>59</td>\n",
       "      <td>54</td>\n",
       "      <td>46</td>\n",
       "      <td>53</td>\n",
       "      <td>47</td>\n",
       "      <td>57</td>\n",
       "    </tr>\n",
       "    <tr>\n",
       "      <th>14</th>\n",
       "      <td>59</td>\n",
       "      <td>54</td>\n",
       "      <td>45</td>\n",
       "      <td>54</td>\n",
       "      <td>60</td>\n",
       "      <td>51</td>\n",
       "    </tr>\n",
       "    <tr>\n",
       "      <th>15</th>\n",
       "      <td>54</td>\n",
       "      <td>48</td>\n",
       "      <td>42</td>\n",
       "      <td>59</td>\n",
       "      <td>53</td>\n",
       "      <td>72</td>\n",
       "    </tr>\n",
       "    <tr>\n",
       "      <th>16</th>\n",
       "      <td>51</td>\n",
       "      <td>51</td>\n",
       "      <td>47</td>\n",
       "      <td>69</td>\n",
       "      <td>78</td>\n",
       "      <td>70</td>\n",
       "    </tr>\n",
       "    <tr>\n",
       "      <th>17</th>\n",
       "      <td>61</td>\n",
       "      <td>48</td>\n",
       "      <td>46</td>\n",
       "      <td>64</td>\n",
       "      <td>78</td>\n",
       "      <td>71</td>\n",
       "    </tr>\n",
       "    <tr>\n",
       "      <th>19</th>\n",
       "      <td>52</td>\n",
       "      <td>40</td>\n",
       "      <td>39</td>\n",
       "      <td>73</td>\n",
       "      <td>73</td>\n",
       "      <td>83</td>\n",
       "    </tr>\n",
       "    <tr>\n",
       "      <th>21</th>\n",
       "      <td>52</td>\n",
       "      <td>47</td>\n",
       "      <td>45</td>\n",
       "      <td>85</td>\n",
       "      <td>89</td>\n",
       "      <td>90</td>\n",
       "    </tr>\n",
       "    <tr>\n",
       "      <th>22</th>\n",
       "      <td>46</td>\n",
       "      <td>42</td>\n",
       "      <td>36</td>\n",
       "      <td>62</td>\n",
       "      <td>63</td>\n",
       "      <td>72</td>\n",
       "    </tr>\n",
       "    <tr>\n",
       "      <th>23</th>\n",
       "      <td>59</td>\n",
       "      <td>51</td>\n",
       "      <td>54</td>\n",
       "      <td>68</td>\n",
       "      <td>68</td>\n",
       "      <td>72</td>\n",
       "    </tr>\n",
       "    <tr>\n",
       "      <th>25</th>\n",
       "      <td>74</td>\n",
       "      <td>65</td>\n",
       "      <td>58</td>\n",
       "      <td>65</td>\n",
       "      <td>74</td>\n",
       "      <td>73</td>\n",
       "    </tr>\n",
       "    <tr>\n",
       "      <th>26</th>\n",
       "      <td>59</td>\n",
       "      <td>55</td>\n",
       "      <td>50</td>\n",
       "      <td>78</td>\n",
       "      <td>74</td>\n",
       "      <td>76</td>\n",
       "    </tr>\n",
       "    <tr>\n",
       "      <th>27</th>\n",
       "      <td>57</td>\n",
       "      <td>51</td>\n",
       "      <td>44</td>\n",
       "      <td>70</td>\n",
       "      <td>80</td>\n",
       "      <td>74</td>\n",
       "    </tr>\n",
       "    <tr>\n",
       "      <th>28</th>\n",
       "      <td>54</td>\n",
       "      <td>51</td>\n",
       "      <td>46</td>\n",
       "      <td>72</td>\n",
       "      <td>79</td>\n",
       "      <td>80</td>\n",
       "    </tr>\n",
       "    <tr>\n",
       "      <th>29</th>\n",
       "      <td>53</td>\n",
       "      <td>49</td>\n",
       "      <td>48</td>\n",
       "      <td>60</td>\n",
       "      <td>65</td>\n",
       "      <td>69</td>\n",
       "    </tr>\n",
       "    <tr>\n",
       "      <th>30</th>\n",
       "      <td>65</td>\n",
       "      <td>65</td>\n",
       "      <td>62</td>\n",
       "      <td>62</td>\n",
       "      <td>59</td>\n",
       "      <td>70</td>\n",
       "    </tr>\n",
       "  </tbody>\n",
       "</table>\n",
       "</div>"
      ],
      "text/plain": [
       "Activity   0   1   2   3   4   5\n",
       "User                            \n",
       "1         95  53  49  47  53  50\n",
       "3         58  59  49  52  61  62\n",
       "5         56  47  47  44  56  52\n",
       "6         57  51  48  55  57  57\n",
       "7         57  51  47  48  53  52\n",
       "8         48  41  38  46  54  54\n",
       "11        59  54  46  53  47  57\n",
       "14        59  54  45  54  60  51\n",
       "15        54  48  42  59  53  72\n",
       "16        51  51  47  69  78  70\n",
       "17        61  48  46  64  78  71\n",
       "19        52  40  39  73  73  83\n",
       "21        52  47  45  85  89  90\n",
       "22        46  42  36  62  63  72\n",
       "23        59  51  54  68  68  72\n",
       "25        74  65  58  65  74  73\n",
       "26        59  55  50  78  74  76\n",
       "27        57  51  44  70  80  74\n",
       "28        54  51  46  72  79  80\n",
       "29        53  49  48  60  65  69\n",
       "30        65  65  62  62  59  70"
      ]
     },
     "execution_count": 20,
     "metadata": {},
     "output_type": "execute_result"
    }
   ],
   "source": [
    "#User-wise Activity frequency\n",
    "pd.crosstab(train_df.User, train_df.Activity)"
   ]
  },
  {
   "cell_type": "markdown",
   "metadata": {},
   "source": [
    "# Implementing Machine Learning Algorithms"
   ]
  },
  {
   "cell_type": "code",
   "execution_count": 21,
   "metadata": {},
   "outputs": [],
   "source": [
    "from sklearn.tree import DecisionTreeClassifier\n",
    "from sklearn.neighbors import KNeighborsClassifier\n",
    "from sklearn.svm import SVC\n",
    "from sklearn.naive_bayes import GaussianNB\n",
    "from sklearn.discriminant_analysis import QuadraticDiscriminantAnalysis\n",
    "from sklearn.metrics import accuracy_score # for evaluation\n",
    "from sklearn.metrics import confusion_matrix"
   ]
  },
  {
   "cell_type": "code",
   "execution_count": 22,
   "metadata": {},
   "outputs": [
    {
     "name": "stderr",
     "output_type": "stream",
     "text": [
      "C:\\Anaconda\\lib\\site-packages\\ipykernel_launcher.py:13: DataConversionWarning: A column-vector y was passed when a 1d array was expected. Please change the shape of y to (n_samples, ), for example using ravel().\n",
      "  del sys.path[0]\n",
      "C:\\Anaconda\\lib\\site-packages\\sklearn\\utils\\validation.py:578: DataConversionWarning: A column-vector y was passed when a 1d array was expected. Please change the shape of y to (n_samples, ), for example using ravel().\n",
      "  y = column_or_1d(y, warn=True)\n",
      "C:\\Anaconda\\lib\\site-packages\\sklearn\\discriminant_analysis.py:682: UserWarning: Variables are collinear\n",
      "  warnings.warn(\"Variables are collinear\")\n"
     ]
    },
    {
     "data": {
      "text/html": [
       "<div>\n",
       "<style scoped>\n",
       "    .dataframe tbody tr th:only-of-type {\n",
       "        vertical-align: middle;\n",
       "    }\n",
       "\n",
       "    .dataframe tbody tr th {\n",
       "        vertical-align: top;\n",
       "    }\n",
       "\n",
       "    .dataframe thead th {\n",
       "        text-align: right;\n",
       "    }\n",
       "</style>\n",
       "<table border=\"1\" class=\"dataframe\">\n",
       "  <thead>\n",
       "    <tr style=\"text-align: right;\">\n",
       "      <th></th>\n",
       "      <th>Score</th>\n",
       "    </tr>\n",
       "    <tr>\n",
       "      <th>Model</th>\n",
       "      <th></th>\n",
       "    </tr>\n",
       "  </thead>\n",
       "  <tbody>\n",
       "    <tr>\n",
       "      <th>DecisionTreeClassifier</th>\n",
       "      <td>0.723108</td>\n",
       "    </tr>\n",
       "    <tr>\n",
       "      <th>KNeighborsClassifier</th>\n",
       "      <td>0.618935</td>\n",
       "    </tr>\n",
       "    <tr>\n",
       "      <th>SVC</th>\n",
       "      <td>0.769596</td>\n",
       "    </tr>\n",
       "    <tr>\n",
       "      <th>GaussianNB</th>\n",
       "      <td>0.724805</td>\n",
       "    </tr>\n",
       "    <tr>\n",
       "      <th>QuadraticDiscriminantAnalysis</th>\n",
       "      <td>0.484561</td>\n",
       "    </tr>\n",
       "  </tbody>\n",
       "</table>\n",
       "</div>"
      ],
      "text/plain": [
       "                                  Score\n",
       "Model                                  \n",
       "DecisionTreeClassifier         0.723108\n",
       "KNeighborsClassifier           0.618935\n",
       "SVC                            0.769596\n",
       "GaussianNB                     0.724805\n",
       "QuadraticDiscriminantAnalysis  0.484561"
      ]
     },
     "execution_count": 22,
     "metadata": {},
     "output_type": "execute_result"
    }
   ],
   "source": [
    "classifiers = [\n",
    "    DecisionTreeClassifier(),\n",
    "    KNeighborsClassifier(7), # because there are 6 different labels\n",
    "    SVC(),\n",
    "    GaussianNB(),\n",
    "    QuadraticDiscriminantAnalysis()\n",
    "]\n",
    "\n",
    "names = []\n",
    "scores = []\n",
    "\n",
    "for clf in classifiers:\n",
    "    clf = clf.fit(xtrain_df, ytrain_df)\n",
    "    ypred = clf.predict(xtest_df)\n",
    "    \n",
    "    names.append(clf.__class__.__name__)\n",
    "    scores.append(accuracy_score(ypred, ytest_df))\n",
    "\n",
    "score_df = pd.DataFrame({'Model': names, 'Score': scores}).set_index('Model')\n",
    "score_df"
   ]
  },
  {
   "cell_type": "code",
   "execution_count": 24,
   "metadata": {},
   "outputs": [
    {
     "data": {
      "text/plain": [
       "[Text(0,0,'DecisionTreeClassifier'),\n",
       " Text(0,0,'KNeighborsClassifier'),\n",
       " Text(0,0,'SVC'),\n",
       " Text(0,0,'GaussianNB'),\n",
       " Text(0,0,'QuadraticDiscriminantAnalysis')]"
      ]
     },
     "execution_count": 24,
     "metadata": {},
     "output_type": "execute_result"
    },
    {
     "data": {
      "image/png": "[encoded data removed]",
      "text/plain": [
       "<matplotlib.figure.Figure at 0x20fd1ec7710>"
      ]
     },
     "metadata": {},
     "output_type": "display_data"
    }
   ],
   "source": [
    "ax = score_df.plot.bar()\n",
    "ax.set_xticklabels(score_df.index, rotation=45, fontsize=10)"
   ]
  },
  {
   "cell_type": "code",
   "execution_count": 25,
   "metadata": {},
   "outputs": [
    {
     "name": "stderr",
     "output_type": "stream",
     "text": [
      "C:\\Anaconda\\lib\\site-packages\\sklearn\\utils\\validation.py:578: DataConversionWarning: A column-vector y was passed when a 1d array was expected. Please change the shape of y to (n_samples, ), for example using ravel().\n",
      "  y = column_or_1d(y, warn=True)\n"
     ]
    }
   ],
   "source": [
    "svc_model_linear = SVC(kernel = 'linear', C = 1).fit(xtrain_df, ytrain_df)\n",
    "svc_predictions = svc_model_linear.predict(xtest_df)"
   ]
  },
  {
   "cell_type": "code",
   "execution_count": 26,
   "metadata": {},
   "outputs": [
    {
     "data": {
      "text/plain": [
       "0.6077366813708857"
      ]
     },
     "execution_count": 26,
     "metadata": {},
     "output_type": "execute_result"
    }
   ],
   "source": [
    "# model accuracy for X_test  \n",
    "accuracy = svc_model_linear.score(xtest_df, ytest_df)\n",
    "accuracy"
   ]
  },
  {
   "cell_type": "code",
   "execution_count": 27,
   "metadata": {},
   "outputs": [
    {
     "data": {
      "text/plain": [
       "array([[179,  69,  97,  50, 101,   0],\n",
       "       [104, 212,  49,  32,  74,   0],\n",
       "       [135,  52, 118,  39,  76,   0],\n",
       "       [  2,  25,   1, 370,  93,   0],\n",
       "       [  2,  74,   6,  75, 375,   0],\n",
       "       [  0,   0,   0,   0,   0, 537]], dtype=int64)"
      ]
     },
     "execution_count": 27,
     "metadata": {},
     "output_type": "execute_result"
    }
   ],
   "source": [
    "# creating a confusion matrix\n",
    "cm = confusion_matrix(ytest_df, svc_predictions)\n",
    "cm"
   ]
  },
  {
   "cell_type": "markdown",
   "metadata": {},
   "source": [
    "# Implementing Recurrent Neural Networks"
   ]
  },
  {
   "cell_type": "code",
   "execution_count": 28,
   "metadata": {},
   "outputs": [
    {
     "data": {
      "text/plain": [
       "'history = model.fit_generator(,y_train,\\n                              steps_per_epoch=500,\\n                              epochs=20,\\n                              validation_data=X_test,\\n                              validation_steps=val_steps)'"
      ]
     },
     "execution_count": 28,
     "metadata": {},
     "output_type": "execute_result"
    }
   ],
   "source": [
    "from keras.models import Sequential\n",
    "from keras import layers\n",
    "from keras.optimizers import RMSprop\n",
    "\n",
    "model = Sequential()\n",
    "model.add(layers.GRU(128, input_shape=(None, X_train.shape[-1])))\n",
    "model.add(layers.Dense(1))\n",
    "\n",
    "model.compile(optimizer='adam', loss='mae', metrics=['accuracy'])\n",
    "'''history = model.fit_generator(,y_train,\n",
    "                              steps_per_epoch=500,\n",
    "                              epochs=20,\n",
    "                              validation_data=X_test,\n",
    "                              validation_steps=val_steps)'''"
   ]
  },
  {
   "cell_type": "code",
   "execution_count": 29,
   "metadata": {
    "scrolled": true
   },
   "outputs": [
    {
     "name": "stdout",
     "output_type": "stream",
     "text": [
      "Train on 7352 samples, validate on 2947 samples\n",
      "Epoch 1/50\n",
      "7352/7352 [==============================] - 21s 3ms/step - loss: 1.8470 - acc: 0.1861 - val_loss: 1.2567 - val_acc: 0.2684\n",
      "Epoch 2/50\n",
      "7352/7352 [==============================] - 19s 3ms/step - loss: 1.0696 - acc: 0.3685 - val_loss: 1.0539 - val_acc: 0.3824\n",
      "Epoch 3/50\n",
      "7352/7352 [==============================] - 19s 3ms/step - loss: 0.9815 - acc: 0.4310 - val_loss: 1.0088 - val_acc: 0.4014\n",
      "Epoch 4/50\n",
      "7352/7352 [==============================] - 20s 3ms/step - loss: 0.9031 - acc: 0.4559 - val_loss: 0.9150 - val_acc: 0.4486\n",
      "Epoch 5/50\n",
      "7352/7352 [==============================] - 20s 3ms/step - loss: 0.6586 - acc: 0.5112 - val_loss: 0.5378 - val_acc: 0.5789\n",
      "Epoch 6/50\n",
      "7352/7352 [==============================] - 19s 3ms/step - loss: 0.4098 - acc: 0.6827 - val_loss: 0.3755 - val_acc: 0.6865\n",
      "Epoch 7/50\n",
      "7352/7352 [==============================] - 18s 3ms/step - loss: 0.3229 - acc: 0.7684 - val_loss: 0.3354 - val_acc: 0.7336\n",
      "Epoch 8/50\n",
      "7352/7352 [==============================] - 19s 3ms/step - loss: 0.2550 - acc: 0.8331 - val_loss: 0.2976 - val_acc: 0.7760\n",
      "Epoch 9/50\n",
      "7352/7352 [==============================] - 22s 3ms/step - loss: 0.2259 - acc: 0.8653 - val_loss: 0.2611 - val_acc: 0.8219\n",
      "Epoch 10/50\n",
      "7352/7352 [==============================] - 19s 3ms/step - loss: 0.2002 - acc: 0.8876 - val_loss: 0.2419 - val_acc: 0.8436\n",
      "Epoch 11/50\n",
      "7352/7352 [==============================] - 20s 3ms/step - loss: 0.1839 - acc: 0.9049 - val_loss: 0.2338 - val_acc: 0.8371\n",
      "Epoch 12/50\n",
      "7352/7352 [==============================] - 22s 3ms/step - loss: 0.1749 - acc: 0.9184 - val_loss: 0.2162 - val_acc: 0.8670\n",
      "Epoch 13/50\n",
      "7352/7352 [==============================] - 21s 3ms/step - loss: 0.1554 - acc: 0.9270 - val_loss: 0.2102 - val_acc: 0.8690\n",
      "Epoch 14/50\n",
      "7352/7352 [==============================] - 21s 3ms/step - loss: 0.1503 - acc: 0.9272 - val_loss: 0.2026 - val_acc: 0.8860\n",
      "Epoch 15/50\n",
      "7352/7352 [==============================] - 18s 3ms/step - loss: 0.1477 - acc: 0.9274 - val_loss: 0.2525 - val_acc: 0.8239\n",
      "Epoch 16/50\n",
      "7352/7352 [==============================] - 19s 3ms/step - loss: 0.1582 - acc: 0.9256 - val_loss: 0.1921 - val_acc: 0.8907\n",
      "Epoch 17/50\n",
      "7352/7352 [==============================] - 20s 3ms/step - loss: 0.1404 - acc: 0.9342 - val_loss: 0.1824 - val_acc: 0.9009\n",
      "Epoch 18/50\n",
      "7352/7352 [==============================] - 21s 3ms/step - loss: 0.1457 - acc: 0.9252 - val_loss: 0.2000 - val_acc: 0.8738\n",
      "Epoch 19/50\n",
      "7352/7352 [==============================] - 24s 3ms/step - loss: 0.1923 - acc: 0.9018 - val_loss: 0.2055 - val_acc: 0.8809\n",
      "Epoch 20/50\n",
      "7352/7352 [==============================] - 20s 3ms/step - loss: 0.1256 - acc: 0.9414 - val_loss: 0.1966 - val_acc: 0.8806\n",
      "Epoch 21/50\n",
      "7352/7352 [==============================] - 20s 3ms/step - loss: 0.1762 - acc: 0.9074 - val_loss: 0.2211 - val_acc: 0.8717\n",
      "Epoch 22/50\n",
      "7352/7352 [==============================] - 19s 3ms/step - loss: 0.1357 - acc: 0.9329 - val_loss: 0.1729 - val_acc: 0.8999\n",
      "Epoch 23/50\n",
      "7352/7352 [==============================] - 19s 3ms/step - loss: 0.1331 - acc: 0.9172 - val_loss: 0.1807 - val_acc: 0.9006\n",
      "Epoch 24/50\n",
      "7352/7352 [==============================] - 18s 2ms/step - loss: 0.1154 - acc: 0.9450 - val_loss: 0.1559 - val_acc: 0.9135\n",
      "Epoch 25/50\n",
      "7352/7352 [==============================] - 19s 3ms/step - loss: 0.1037 - acc: 0.9465 - val_loss: 0.1612 - val_acc: 0.9074\n",
      "Epoch 26/50\n",
      "7352/7352 [==============================] - 19s 3ms/step - loss: 0.1050 - acc: 0.9440 - val_loss: 0.1541 - val_acc: 0.9135\n",
      "Epoch 27/50\n",
      "7352/7352 [==============================] - 19s 3ms/step - loss: 0.1682 - acc: 0.8855 - val_loss: 0.1912 - val_acc: 0.9050\n",
      "Epoch 28/50\n",
      "7352/7352 [==============================] - 18s 2ms/step - loss: 0.1246 - acc: 0.9385 - val_loss: 0.1729 - val_acc: 0.9141\n",
      "Epoch 29/50\n",
      "7352/7352 [==============================] - 18s 2ms/step - loss: 0.1087 - acc: 0.9448 - val_loss: 0.1570 - val_acc: 0.9145\n",
      "Epoch 30/50\n",
      "7352/7352 [==============================] - 19s 3ms/step - loss: 0.1017 - acc: 0.9486 - val_loss: 0.1596 - val_acc: 0.9196\n",
      "Epoch 31/50\n",
      "7352/7352 [==============================] - 19s 3ms/step - loss: 0.1027 - acc: 0.9498 - val_loss: 0.1500 - val_acc: 0.9209\n",
      "Epoch 32/50\n",
      "7352/7352 [==============================] - 18s 2ms/step - loss: 0.1053 - acc: 0.9514 - val_loss: 0.1998 - val_acc: 0.9138\n",
      "Epoch 33/50\n",
      "7352/7352 [==============================] - 18s 2ms/step - loss: 0.1075 - acc: 0.9495 - val_loss: 0.1546 - val_acc: 0.9172\n",
      "Epoch 34/50\n",
      "7352/7352 [==============================] - 18s 2ms/step - loss: 0.0876 - acc: 0.9539 - val_loss: 0.1459 - val_acc: 0.9152\n",
      "Epoch 35/50\n",
      "7352/7352 [==============================] - 18s 2ms/step - loss: 0.0900 - acc: 0.9482 - val_loss: 0.1580 - val_acc: 0.9094\n",
      "Epoch 36/50\n",
      "7352/7352 [==============================] - 18s 2ms/step - loss: 0.0873 - acc: 0.9495 - val_loss: 0.1401 - val_acc: 0.9206\n",
      "Epoch 37/50\n",
      "7352/7352 [==============================] - 19s 3ms/step - loss: 0.0933 - acc: 0.9456 - val_loss: 0.1374 - val_acc: 0.9243\n",
      "Epoch 38/50\n",
      "7352/7352 [==============================] - 18s 2ms/step - loss: 0.0822 - acc: 0.9533 - val_loss: 0.1469 - val_acc: 0.9226\n",
      "Epoch 39/50\n",
      "7352/7352 [==============================] - 19s 3ms/step - loss: 0.0907 - acc: 0.9460 - val_loss: 0.1518 - val_acc: 0.9050\n",
      "Epoch 40/50\n",
      "7352/7352 [==============================] - 19s 3ms/step - loss: 0.0837 - acc: 0.9517 - val_loss: 0.1459 - val_acc: 0.9169\n",
      "Epoch 41/50\n",
      "7352/7352 [==============================] - 18s 2ms/step - loss: 0.0811 - acc: 0.9546 - val_loss: 0.1313 - val_acc: 0.9223\n",
      "Epoch 42/50\n",
      "7352/7352 [==============================] - 18s 2ms/step - loss: 0.0841 - acc: 0.9513 - val_loss: 0.1356 - val_acc: 0.9203\n",
      "Epoch 43/50\n",
      "7352/7352 [==============================] - 18s 2ms/step - loss: 0.0935 - acc: 0.9384 - val_loss: 0.1594 - val_acc: 0.9077\n",
      "Epoch 44/50\n",
      "7352/7352 [==============================] - 20s 3ms/step - loss: 0.0803 - acc: 0.9512 - val_loss: 0.1363 - val_acc: 0.9199\n",
      "Epoch 45/50\n",
      "7352/7352 [==============================] - 29s 4ms/step - loss: 0.0885 - acc: 0.9411 - val_loss: 0.1657 - val_acc: 0.8870\n",
      "Epoch 46/50\n",
      "7352/7352 [==============================] - 21s 3ms/step - loss: 0.1215 - acc: 0.9384 - val_loss: 0.1601 - val_acc: 0.9131\n",
      "Epoch 47/50\n",
      "7352/7352 [==============================] - 19s 3ms/step - loss: 0.0866 - acc: 0.9480 - val_loss: 0.1464 - val_acc: 0.9046\n",
      "Epoch 48/50\n",
      "7352/7352 [==============================] - 19s 3ms/step - loss: 0.0850 - acc: 0.9437 - val_loss: 0.1346 - val_acc: 0.9203\n",
      "Epoch 49/50\n",
      "7352/7352 [==============================] - 19s 3ms/step - loss: 0.0841 - acc: 0.9431 - val_loss: 0.1277 - val_acc: 0.9192\n",
      "Epoch 50/50\n",
      "7352/7352 [==============================] - 19s 3ms/step - loss: 0.1322 - acc: 0.9151 - val_loss: 0.1824 - val_acc: 0.9125\n"
     ]
    }
   ],
   "source": [
    "history = model.fit(x=X_train,\n",
    "                    y=y_train,\n",
    "                    batch_size=200,\n",
    "                    epochs=50,\n",
    "                    verbose=1,\n",
    "                    callbacks=None,\n",
    "                    #validation_split=0.2,\n",
    "                    validation_data = (X_test, y_test),\n",
    "                    #validation_data=None,\n",
    "                    shuffle=True,\n",
    "                    #class_weight=None, sample_weight=None,initial_epoch=0, steps_per_epoch=None, validation_steps=None\n",
    "                   )"
   ]
  },
  {
   "cell_type": "code",
   "execution_count": 30,
   "metadata": {},
   "outputs": [
    {
     "data": {
      "text/plain": [
       "dict_keys(['val_loss', 'val_acc', 'loss', 'acc'])"
      ]
     },
     "execution_count": 30,
     "metadata": {},
     "output_type": "execute_result"
    }
   ],
   "source": [
    "history_dict = history.history\n",
    "history_dict.keys()"
   ]
  },
  {
   "cell_type": "code",
   "execution_count": 31,
   "metadata": {},
   "outputs": [
    {
     "data": {
      "image/png": "[encoded data removed]",
      "text/plain": [
       "<matplotlib.figure.Figure at 0x20fe4ab3940>"
      ]
     },
     "metadata": {},
     "output_type": "display_data"
    }
   ],
   "source": [
    "loss = history.history['loss']\n",
    "val_loss = history.history['val_loss']\n",
    "\n",
    "epochs = range(len(loss))\n",
    "\n",
    "plt.figure()\n",
    "\n",
    "plt.plot(epochs, loss, 'g', label='Training loss')\n",
    "plt.plot(epochs, val_loss, 'b', label='Validation loss')\n",
    "plt.title('Training and validation loss')\n",
    "plt.legend()\n",
    "\n",
    "plt.show()"
   ]
  },
  {
   "cell_type": "code",
   "execution_count": 32,
   "metadata": {
    "scrolled": true
   },
   "outputs": [
    {
     "data": {
      "image/png": "[encoded data removed]",
      "text/plain": [
       "<matplotlib.figure.Figure at 0x20fe4aba8d0>"
      ]
     },
     "metadata": {},
     "output_type": "display_data"
    }
   ],
   "source": [
    "loss = history.history['acc']\n",
    "val_loss = history.history['val_acc']\n",
    "\n",
    "epochs = range(len(loss))\n",
    "\n",
    "plt.figure()\n",
    "\n",
    "plt.plot(epochs, loss, 'g', label='Training acc')\n",
    "plt.plot(epochs, val_loss, 'b', label='Validation acc')\n",
    "plt.title('Training and validation acc')\n",
    "plt.legend()\n",
    "\n",
    "plt.show()"
   ]
  }
 ],
 "metadata": {
  "kernelspec": {
   "display_name": "Python 3",
   "language": "python",
   "name": "python3"
  },
  "language_info": {
   "codemirror_mode": {
    "name": "ipython",
    "version": 3
   },
   "file_extension": ".py",
   "mimetype": "text/x-python",
   "name": "python",
   "nbconvert_exporter": "python",
   "pygments_lexer": "ipython3",
   "version": "3.6.4"
  }
 },
 "nbformat": 4,
 "nbformat_minor": 2
}
