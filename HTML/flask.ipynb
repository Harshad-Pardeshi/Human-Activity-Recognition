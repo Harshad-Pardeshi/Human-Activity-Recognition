{
 "cells": [
  {
   "cell_type": "code",
   "execution_count": 3,
   "metadata": {},
   "outputs": [
    {
     "name": "stderr",
     "output_type": "stream",
     "text": [
      " * Running on http://127.0.0.1:5001/ (Press CTRL+C to quit)\n"
     ]
    }
   ],
   "source": [
    "# from flask import request\n",
    "# from flask import Flask\n",
    "\n",
    "import flask\n",
    "app = Flask(__name__)\n",
    "action = \"sitting\"\n",
    "@app.route('/login', methods=['GET', 'POST'])\n",
    "def hello():\n",
    "    a = request.args.get('param')\n",
    "    f= open(\"activity_history.txt\",\"a+\")\n",
    "    progress = \"<div class='progress-box'> \\\n",
    "                            <h5>\" + a + \"<span class='color-heading pull-right'>87%</span></h5> \\\n",
    "                            <div class='progress'> \\\n",
    "                                <div class='progress-bar bg-color-base' role='progressbar' data-width='87'></div> \\\n",
    "                            </div> \\\n",
    "                        </div>\"\n",
    "    f.write(progress + \"\\n\")\n",
    "    f.close()\n",
    "    print(a)\n",
    "    return a\n",
    "if __name__ == \"__main__\":\n",
    "    app.run(port=5001)"
   ]
  },
  {
   "cell_type": "code",
   "execution_count": null,
   "metadata": {},
   "outputs": [],
   "source": []
  }
 ],
 "metadata": {
  "kernelspec": {
   "display_name": "Python 3",
   "language": "python",
   "name": "python3"
  },
  "language_info": {
   "codemirror_mode": {
    "name": "ipython",
    "version": 3
   },
   "file_extension": ".py",
   "mimetype": "text/x-python",
   "name": "python",
   "nbconvert_exporter": "python",
   "pygments_lexer": "ipython3",
   "version": "3.6.4"
  }
 },
 "nbformat": 4,
 "nbformat_minor": 2
}
